{
 "cells": [
  {
   "cell_type": "code",
   "execution_count": 3,
   "metadata": {},
   "outputs": [
    {
     "name": "stdout",
     "output_type": "stream",
     "text": [
      "From parent1\n"
     ]
    }
   ],
   "source": [
    "class Parent1(object):\n",
    "    def myfun(self):\n",
    "        print \"From parent1\"\n",
    "        \n",
    "class Parent2(object):\n",
    "    def myfun(self):\n",
    "        print \"From parent2\"\n",
    "        \n",
    "class Child(Parent1, Parent2):\n",
    "    pass\n",
    "\n",
    "obj = Child()\n",
    "obj.myfun()"
   ]
  },
  {
   "cell_type": "code",
   "execution_count": 6,
   "metadata": {},
   "outputs": [
    {
     "name": "stdout",
     "output_type": "stream",
     "text": [
      "From parent1\n"
     ]
    }
   ],
   "source": [
    "class Parent1(object):\n",
    "    def myfun(self):\n",
    "        print \"From parent1\"\n",
    "        \n",
    "class Parent2(object):\n",
    "    def myfun(self):\n",
    "        print \"From parent2\"\n",
    "        \n",
    "class Child(Parent1, Parent2):\n",
    "    pass\n",
    "\n",
    "obj = Child()\n",
    "obj.myfun()"
   ]
  },
  {
   "cell_type": "code",
   "execution_count": 7,
   "metadata": {},
   "outputs": [
    {
     "name": "stdout",
     "output_type": "stream",
     "text": [
      "From parent1\n"
     ]
    }
   ],
   "source": [
    "class Parent1(object):\n",
    "    def myfun(self):\n",
    "        print \"From parent1\"\n",
    "        \n",
    "class Parent2(Parent1):\n",
    "    def myfun1(self):\n",
    "        print \"From parent2\"\n",
    "        \n",
    "class Child(Parent2):\n",
    "    pass\n",
    "\n",
    "obj = Child()\n",
    "obj.myfun()"
   ]
  },
  {
   "cell_type": "code",
   "execution_count": 8,
   "metadata": {},
   "outputs": [
    {
     "name": "stdout",
     "output_type": "stream",
     "text": [
      "From parent2\n"
     ]
    }
   ],
   "source": [
    "class Parent1(object):\n",
    "    def myfun(self):\n",
    "        print \"From parent1\"\n",
    "        \n",
    "class Parent2(Parent1):\n",
    "    def myfun(self):\n",
    "        print \"From parent2\"\n",
    "        \n",
    "class Child(Parent2):\n",
    "    pass\n",
    "\n",
    "obj = Child()\n",
    "obj.myfun()"
   ]
  },
  {
   "cell_type": "code",
   "execution_count": 9,
   "metadata": {},
   "outputs": [
    {
     "ename": "TypeError",
     "evalue": "Error when calling the metaclass bases\n    Cannot create a consistent method resolution\norder (MRO) for bases Parent2, object",
     "output_type": "error",
     "traceback": [
      "\u001b[1;31m--------------------------------------------------------------\u001b[0m",
      "\u001b[1;31mTypeError\u001b[0m                    Traceback (most recent call last)",
      "\u001b[1;32m<ipython-input-9-8928ea322252>\u001b[0m in \u001b[0;36m<module>\u001b[1;34m()\u001b[0m\n\u001b[0;32m      7\u001b[0m         \u001b[1;32mprint\u001b[0m \u001b[1;34m\"From parent2\"\u001b[0m\u001b[1;33m\u001b[0m\u001b[0m\n\u001b[0;32m      8\u001b[0m \u001b[1;33m\u001b[0m\u001b[0m\n\u001b[1;32m----> 9\u001b[1;33m \u001b[1;32mclass\u001b[0m \u001b[0mChild\u001b[0m\u001b[1;33m(\u001b[0m\u001b[0mobject\u001b[0m\u001b[1;33m,\u001b[0m \u001b[0mParent2\u001b[0m\u001b[1;33m)\u001b[0m\u001b[1;33m:\u001b[0m\u001b[1;33m\u001b[0m\u001b[0m\n\u001b[0m\u001b[0;32m     10\u001b[0m     \u001b[1;32mpass\u001b[0m\u001b[1;33m\u001b[0m\u001b[0m\n\u001b[0;32m     11\u001b[0m \u001b[1;33m\u001b[0m\u001b[0m\n",
      "\u001b[1;31mTypeError\u001b[0m: Error when calling the metaclass bases\n    Cannot create a consistent method resolution\norder (MRO) for bases Parent2, object"
     ]
    }
   ],
   "source": [
    "class Parent1(object):\n",
    "    def myfun(self):\n",
    "        print \"From parent1\"\n",
    "        \n",
    "class Parent2(Parent1):\n",
    "    def myfun(self):\n",
    "        print \"From parent2\"\n",
    "        \n",
    "class Child(object, Parent2):\n",
    "    pass\n",
    "\n",
    "obj = Child()\n",
    "obj.myfun()"
   ]
  },
  {
   "cell_type": "code",
   "execution_count": 10,
   "metadata": {},
   "outputs": [
    {
     "name": "stdout",
     "output_type": "stream",
     "text": [
      "From parent2\n"
     ]
    }
   ],
   "source": [
    "class Parent1(object):\n",
    "    def myfun(self):\n",
    "        print \"From parent1\"\n",
    "        \n",
    "class Parent2(Parent1):\n",
    "    def myfun(self):\n",
    "        print \"From parent2\"\n",
    "        \n",
    "class Child(Parent2, object):\n",
    "    pass\n",
    "\n",
    "obj = Child()\n",
    "obj.myfun()"
   ]
  },
  {
   "cell_type": "code",
   "execution_count": 12,
   "metadata": {},
   "outputs": [
    {
     "name": "stdout",
     "output_type": "stream",
     "text": [
      "two arguments\n"
     ]
    }
   ],
   "source": [
    "class Myclass():\n",
    "    def myfun(self, a):\n",
    "        print \"one argument\"\n",
    "    \n",
    "    def myfun(self, a, b):\n",
    "        print \"two arguments\"\n",
    "        \n",
    "obj = Myclass()\n",
    "obj.myfun(3, 5)"
   ]
  },
  {
   "cell_type": "code",
   "execution_count": 13,
   "metadata": {},
   "outputs": [
    {
     "ename": "TypeError",
     "evalue": "myfun() takes exactly 3 arguments (2 given)",
     "output_type": "error",
     "traceback": [
      "\u001b[1;31m--------------------------------------------------------------\u001b[0m",
      "\u001b[1;31mTypeError\u001b[0m                    Traceback (most recent call last)",
      "\u001b[1;32m<ipython-input-13-5ffc26933186>\u001b[0m in \u001b[0;36m<module>\u001b[1;34m()\u001b[0m\n\u001b[1;32m----> 1\u001b[1;33m \u001b[0mobj\u001b[0m\u001b[1;33m.\u001b[0m\u001b[0mmyfun\u001b[0m\u001b[1;33m(\u001b[0m\u001b[1;36m5\u001b[0m\u001b[1;33m)\u001b[0m\u001b[1;33m\u001b[0m\u001b[0m\n\u001b[0m",
      "\u001b[1;31mTypeError\u001b[0m: myfun() takes exactly 3 arguments (2 given)"
     ]
    }
   ],
   "source": [
    "obj.myfun(5)"
   ]
  },
  {
   "cell_type": "code",
   "execution_count": 14,
   "metadata": {},
   "outputs": [
    {
     "name": "stdout",
     "output_type": "stream",
     "text": [
      "2 argument\n"
     ]
    }
   ],
   "source": [
    "class Myclass():\n",
    "    def myfun(self, *a):\n",
    "        print \"{0} argument\".format(len(a))\n",
    "        \n",
    "obj = Myclass()\n",
    "obj.myfun(3, 5)"
   ]
  },
  {
   "cell_type": "code",
   "execution_count": null,
   "metadata": {
    "collapsed": true
   },
   "outputs": [],
   "source": []
  }
 ],
 "metadata": {
  "kernelspec": {
   "display_name": "Python 2",
   "language": "python",
   "name": "python2"
  },
  "language_info": {
   "codemirror_mode": {
    "name": "ipython",
    "version": 2
   },
   "file_extension": ".py",
   "mimetype": "text/x-python",
   "name": "python",
   "nbconvert_exporter": "python",
   "pygments_lexer": "ipython2",
   "version": "2.7.13"
  }
 },
 "nbformat": 4,
 "nbformat_minor": 2
}
