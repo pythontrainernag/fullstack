{
 "cells": [
  {
   "cell_type": "code",
   "execution_count": 1,
   "metadata": {
    "collapsed": true
   },
   "outputs": [],
   "source": [
    "a = \"My name is Nageswar, My mobile is 91-8148586079 and I am a python trainer\""
   ]
  },
  {
   "cell_type": "code",
   "execution_count": 2,
   "metadata": {
    "collapsed": true
   },
   "outputs": [],
   "source": [
    "import re"
   ]
  },
  {
   "cell_type": "code",
   "execution_count": 3,
   "metadata": {
    "collapsed": true
   },
   "outputs": [],
   "source": [
    "x = r\"91-\\d\\d\\d\\d\\d\\d\\d\\d\\d\\d\""
   ]
  },
  {
   "cell_type": "code",
   "execution_count": 4,
   "metadata": {
    "collapsed": true
   },
   "outputs": [],
   "source": [
    "y = re.compile(x)"
   ]
  },
  {
   "cell_type": "code",
   "execution_count": 5,
   "metadata": {
    "collapsed": true
   },
   "outputs": [],
   "source": [
    "z = y.search(a)"
   ]
  },
  {
   "cell_type": "code",
   "execution_count": 6,
   "metadata": {},
   "outputs": [
    {
     "name": "stdout",
     "output_type": "stream",
     "text": [
      "91-8148586079\n"
     ]
    }
   ],
   "source": [
    "print z.group()"
   ]
  },
  {
   "cell_type": "code",
   "execution_count": 7,
   "metadata": {
    "collapsed": true
   },
   "outputs": [],
   "source": [
    "z =  re.search(a, x)"
   ]
  },
  {
   "cell_type": "code",
   "execution_count": 8,
   "metadata": {},
   "outputs": [
    {
     "name": "stdout",
     "output_type": "stream",
     "text": [
      "None\n"
     ]
    }
   ],
   "source": [
    "print z"
   ]
  },
  {
   "cell_type": "code",
   "execution_count": 9,
   "metadata": {},
   "outputs": [
    {
     "name": "stdout",
     "output_type": "stream",
     "text": [
      "Scan through string looking for a match to the pattern, returning\n",
      "    a match object, or None if no match was found.\n"
     ]
    }
   ],
   "source": [
    "print re.search.__doc__"
   ]
  },
  {
   "cell_type": "code",
   "execution_count": 10,
   "metadata": {},
   "outputs": [
    {
     "name": "stdout",
     "output_type": "stream",
     "text": [
      "Help on function search in module re:\n",
      "\n",
      "search(pattern, string, flags=0)\n",
      "    Scan through string looking for a match to the pattern, returning\n",
      "    a match object, or None if no match was found.\n",
      "\n",
      "None\n"
     ]
    }
   ],
   "source": [
    "print help(re.search)"
   ]
  },
  {
   "cell_type": "code",
   "execution_count": 11,
   "metadata": {},
   "outputs": [
    {
     "name": "stdout",
     "output_type": "stream",
     "text": [
      "91-8148586079\n"
     ]
    }
   ],
   "source": [
    "print re.search(x, a).group()"
   ]
  },
  {
   "cell_type": "code",
   "execution_count": 12,
   "metadata": {
    "collapsed": true
   },
   "outputs": [],
   "source": [
    "x = r\"91-\\d{10}\""
   ]
  },
  {
   "cell_type": "code",
   "execution_count": 13,
   "metadata": {},
   "outputs": [
    {
     "name": "stdout",
     "output_type": "stream",
     "text": [
      "91-\\d{10}\n"
     ]
    }
   ],
   "source": [
    "print x"
   ]
  },
  {
   "cell_type": "code",
   "execution_count": 14,
   "metadata": {},
   "outputs": [
    {
     "name": "stdout",
     "output_type": "stream",
     "text": [
      "91-8148586079\n"
     ]
    }
   ],
   "source": [
    "print re.search(x, a).group()"
   ]
  },
  {
   "cell_type": "code",
   "execution_count": 15,
   "metadata": {
    "collapsed": true
   },
   "outputs": [],
   "source": [
    "a = \"My name is Nageswar, My mobile is 91-81485860719 and I am a python trainer\""
   ]
  },
  {
   "cell_type": "code",
   "execution_count": 16,
   "metadata": {},
   "outputs": [
    {
     "name": "stdout",
     "output_type": "stream",
     "text": [
      "91-8148586071\n"
     ]
    }
   ],
   "source": [
    "print re.search(x, a).group()"
   ]
  },
  {
   "cell_type": "code",
   "execution_count": 17,
   "metadata": {
    "collapsed": true
   },
   "outputs": [],
   "source": [
    "x = r\"91-\\d{10}\\s\""
   ]
  },
  {
   "cell_type": "code",
   "execution_count": 18,
   "metadata": {},
   "outputs": [
    {
     "name": "stdout",
     "output_type": "stream",
     "text": [
      "None\n"
     ]
    }
   ],
   "source": [
    "print re.search(x, a)"
   ]
  },
  {
   "cell_type": "code",
   "execution_count": 19,
   "metadata": {
    "collapsed": true
   },
   "outputs": [],
   "source": [
    "a = \"My name is Nageswar, My mobile is 91-8148586071 and I am a python trainer\""
   ]
  },
  {
   "cell_type": "code",
   "execution_count": 21,
   "metadata": {},
   "outputs": [
    {
     "name": "stdout",
     "output_type": "stream",
     "text": [
      "91-8148586071 \n"
     ]
    }
   ],
   "source": [
    "print re.search(x, a).group()"
   ]
  },
  {
   "cell_type": "code",
   "execution_count": 22,
   "metadata": {
    "collapsed": true
   },
   "outputs": [],
   "source": [
    "x = r\"91-(\\d{10})\\s\""
   ]
  },
  {
   "cell_type": "code",
   "execution_count": 23,
   "metadata": {},
   "outputs": [
    {
     "name": "stdout",
     "output_type": "stream",
     "text": [
      "91-8148586071 \n"
     ]
    }
   ],
   "source": [
    "print re.search(x, a).group()"
   ]
  },
  {
   "cell_type": "code",
   "execution_count": 24,
   "metadata": {},
   "outputs": [
    {
     "name": "stdout",
     "output_type": "stream",
     "text": [
      "8148586071\n"
     ]
    }
   ],
   "source": [
    "print re.search(x, a).group(1)"
   ]
  },
  {
   "cell_type": "code",
   "execution_count": 25,
   "metadata": {},
   "outputs": [
    {
     "ename": "IndexError",
     "evalue": "no such group",
     "output_type": "error",
     "traceback": [
      "\u001b[1;31m--------------------------------------------------------------\u001b[0m",
      "\u001b[1;31mIndexError\u001b[0m                   Traceback (most recent call last)",
      "\u001b[1;32m<ipython-input-25-8cf2eaa412bb>\u001b[0m in \u001b[0;36m<module>\u001b[1;34m()\u001b[0m\n\u001b[1;32m----> 1\u001b[1;33m \u001b[1;32mprint\u001b[0m \u001b[0mre\u001b[0m\u001b[1;33m.\u001b[0m\u001b[0msearch\u001b[0m\u001b[1;33m(\u001b[0m\u001b[0mx\u001b[0m\u001b[1;33m,\u001b[0m \u001b[0ma\u001b[0m\u001b[1;33m)\u001b[0m\u001b[1;33m.\u001b[0m\u001b[0mgroup\u001b[0m\u001b[1;33m(\u001b[0m\u001b[1;36m2\u001b[0m\u001b[1;33m)\u001b[0m\u001b[1;33m\u001b[0m\u001b[0m\n\u001b[0m",
      "\u001b[1;31mIndexError\u001b[0m: no such group"
     ]
    }
   ],
   "source": [
    "print re.search(x, a).group(2)"
   ]
  },
  {
   "cell_type": "code",
   "execution_count": 26,
   "metadata": {
    "collapsed": true
   },
   "outputs": [],
   "source": [
    "x = r\"(91-)(\\d{10})(\\s)\""
   ]
  },
  {
   "cell_type": "code",
   "execution_count": 27,
   "metadata": {},
   "outputs": [
    {
     "name": "stdout",
     "output_type": "stream",
     "text": [
      "91-\n"
     ]
    }
   ],
   "source": [
    "print re.search(x, a).group(1)"
   ]
  },
  {
   "cell_type": "code",
   "execution_count": 28,
   "metadata": {},
   "outputs": [
    {
     "name": "stdout",
     "output_type": "stream",
     "text": [
      "8148586071\n"
     ]
    }
   ],
   "source": [
    "print re.search(x, a).group(2)"
   ]
  },
  {
   "cell_type": "code",
   "execution_count": 29,
   "metadata": {},
   "outputs": [
    {
     "name": "stdout",
     "output_type": "stream",
     "text": [
      " \n"
     ]
    }
   ],
   "source": [
    "print re.search(x, a).group(3)"
   ]
  },
  {
   "cell_type": "code",
   "execution_count": 33,
   "metadata": {
    "collapsed": true
   },
   "outputs": [],
   "source": [
    "a = \"My name is Nageswar, My mobile is 91-8148586071 and I am a python trainer and myfriend mobile is 91-9876543210 \""
   ]
  },
  {
   "cell_type": "code",
   "execution_count": 34,
   "metadata": {},
   "outputs": [
    {
     "name": "stdout",
     "output_type": "stream",
     "text": [
      "91-8148586071 \n"
     ]
    }
   ],
   "source": [
    "print re.search(x, a).group()"
   ]
  },
  {
   "cell_type": "code",
   "execution_count": 35,
   "metadata": {},
   "outputs": [
    {
     "name": "stdout",
     "output_type": "stream",
     "text": [
      "[('91-', '8148586071', ' '), ('91-', '9876543210', ' ')]\n"
     ]
    }
   ],
   "source": [
    "print re.findall(x, a)"
   ]
  },
  {
   "cell_type": "code",
   "execution_count": 36,
   "metadata": {
    "collapsed": true
   },
   "outputs": [],
   "source": [
    "x = r\"91-\\d{10}\\s\""
   ]
  },
  {
   "cell_type": "code",
   "execution_count": 37,
   "metadata": {},
   "outputs": [
    {
     "name": "stdout",
     "output_type": "stream",
     "text": [
      "['91-8148586071 ', '91-9876543210 ']\n"
     ]
    }
   ],
   "source": [
    "print re.findall(x, a)"
   ]
  },
  {
   "cell_type": "code",
   "execution_count": 38,
   "metadata": {},
   "outputs": [
    {
     "name": "stdout",
     "output_type": "stream",
     "text": [
      "['8148586071', '9876543210']\n"
     ]
    }
   ],
   "source": [
    "x = r\"91-(\\d{10})\\s\"\n",
    "print re.findall(x, a)"
   ]
  },
  {
   "cell_type": "code",
   "execution_count": 39,
   "metadata": {},
   "outputs": [
    {
     "name": "stdout",
     "output_type": "stream",
     "text": [
      "['8148586071', '9876543210']\n"
     ]
    }
   ],
   "source": [
    "x = r\"91-(?P<mobile>\\d{10})\\s\"\n",
    "print re.findall(x, a)"
   ]
  },
  {
   "cell_type": "code",
   "execution_count": 40,
   "metadata": {},
   "outputs": [
    {
     "name": "stdout",
     "output_type": "stream",
     "text": [
      "8148586071\n"
     ]
    }
   ],
   "source": [
    "print re.search(x, a).group('mobile')"
   ]
  },
  {
   "cell_type": "code",
   "execution_count": 44,
   "metadata": {
    "collapsed": true
   },
   "outputs": [],
   "source": [
    "a = \"My name is Nageswar, My mobile is 91-8148586071 and I am a python trainer and myfriend mobile is 91-987654321012 \""
   ]
  },
  {
   "cell_type": "code",
   "execution_count": 49,
   "metadata": {},
   "outputs": [
    {
     "name": "stdout",
     "output_type": "stream",
     "text": [
      "['8148586071', '987654321012']\n"
     ]
    }
   ],
   "source": [
    "x = r\"91-(\\d{10,12})\\s\"\n",
    "print re.findall(x, a)"
   ]
  },
  {
   "cell_type": "code",
   "execution_count": 50,
   "metadata": {
    "collapsed": true
   },
   "outputs": [],
   "source": [
    "#character classes ----->[]"
   ]
  },
  {
   "cell_type": "code",
   "execution_count": 53,
   "metadata": {
    "collapsed": true
   },
   "outputs": [],
   "source": [
    "a = \"My name is Nageswar, My mobile is 91-8148586071 and I am a Python trainer and myfriend mobile is 91-987654321012 \""
   ]
  },
  {
   "cell_type": "code",
   "execution_count": 54,
   "metadata": {
    "collapsed": true
   },
   "outputs": [],
   "source": [
    "x = r\"[P]\""
   ]
  },
  {
   "cell_type": "code",
   "execution_count": 55,
   "metadata": {},
   "outputs": [
    {
     "name": "stdout",
     "output_type": "stream",
     "text": [
      "['P']\n"
     ]
    }
   ],
   "source": [
    "print re.findall(x, a)"
   ]
  },
  {
   "cell_type": "code",
   "execution_count": 56,
   "metadata": {},
   "outputs": [
    {
     "name": "stdout",
     "output_type": "stream",
     "text": [
      "['P']\n"
     ]
    }
   ],
   "source": [
    "x = r\"[PY]\"\n",
    "print re.findall(x, a)"
   ]
  },
  {
   "cell_type": "code",
   "execution_count": 57,
   "metadata": {},
   "outputs": [
    {
     "name": "stdout",
     "output_type": "stream",
     "text": [
      "['y', 'y', 'P', 'y', 'y']\n"
     ]
    }
   ],
   "source": [
    "x = r\"[Py]\"\n",
    "print re.findall(x, a)"
   ]
  },
  {
   "cell_type": "code",
   "execution_count": 58,
   "metadata": {},
   "outputs": [
    {
     "name": "stdout",
     "output_type": "stream",
     "text": [
      "['9', '1', '8', '1', '4', '8', '5', '8', '6', '0', '7', '1', '9', '1', '9', '8', '7', '6', '5', '4', '3', '2', '1', '0', '1', '2']\n"
     ]
    }
   ],
   "source": [
    "x = r\"[\\d]\"\n",
    "print re.findall(x, a)"
   ]
  },
  {
   "cell_type": "code",
   "execution_count": 59,
   "metadata": {},
   "outputs": [
    {
     "name": "stdout",
     "output_type": "stream",
     "text": [
      "['a', 'e', 'i', 'a', 'e', 'a', 'o', 'i', 'e', 'i', 'a', 'a', 'a', 'o', 'a', 'i', 'e', 'a', 'i', 'e', 'o', 'i', 'e', 'i']\n"
     ]
    }
   ],
   "source": [
    "x = r\"[aeiou]\"\n",
    "print re.findall(x, a)"
   ]
  },
  {
   "cell_type": "code",
   "execution_count": 60,
   "metadata": {},
   "outputs": [
    {
     "name": "stdout",
     "output_type": "stream",
     "text": [
      "24\n"
     ]
    }
   ],
   "source": [
    "x = r\"[aeiou]\"\n",
    "print len(re.findall(x, a))"
   ]
  },
  {
   "cell_type": "code",
   "execution_count": 61,
   "metadata": {},
   "outputs": [
    {
     "name": "stdout",
     "output_type": "stream",
     "text": [
      "['M', 'y', ' ', 'n', 'm', ' ', 's', ' ', 'N', 'g', 's', 'w', 'r', ',', ' ', 'M', 'y', ' ', 'm', 'b', 'l', ' ', 's', ' ', '9', '1', '-', '8', '1', '4', '8', '5', '8', '6', '0', '7', '1', ' ', 'n', 'd', ' ', 'I', ' ', 'm', ' ', ' ', 'P', 'y', 't', 'h', 'n', ' ', 't', 'r', 'n', 'r', ' ', 'n', 'd', ' ', 'm', 'y', 'f', 'r', 'n', 'd', ' ', 'm', 'b', 'l', ' ', 's', ' ', '9', '1', '-', '9', '8', '7', '6', '5', '4', '3', '2', '1', '0', '1', '2', ' ']\n"
     ]
    }
   ],
   "source": [
    "x = r\"[^aeiou]\"\n",
    "print re.findall(x, a)"
   ]
  },
  {
   "cell_type": "code",
   "execution_count": 62,
   "metadata": {},
   "outputs": [
    {
     "name": "stdout",
     "output_type": "stream",
     "text": [
      "M\n"
     ]
    }
   ],
   "source": [
    "x = r\"[^aeiou]\"\n",
    "print re.search(x, a).group()"
   ]
  },
  {
   "cell_type": "code",
   "execution_count": 63,
   "metadata": {},
   "outputs": [
    {
     "name": "stdout",
     "output_type": "stream",
     "text": [
      "['9', '1', '8', '1', '4', '8', '5', '8', '6', '0', '7', '1', '9', '1', '9', '8', '7', '6', '5', '4', '3', '2', '1', '0', '1', '2']\n"
     ]
    }
   ],
   "source": [
    "x = r\"[0-9]\"\n",
    "print re.findall(x, a)"
   ]
  },
  {
   "cell_type": "code",
   "execution_count": 68,
   "metadata": {},
   "outputs": [
    {
     "name": "stdout",
     "output_type": "stream",
     "text": [
      "['91-8148586071 ']\n"
     ]
    }
   ],
   "source": [
    "x = r\"91-[0-9]{10}\\s\"\n",
    "print re.findall(x, a)"
   ]
  },
  {
   "cell_type": "code",
   "execution_count": 69,
   "metadata": {
    "collapsed": true
   },
   "outputs": [],
   "source": [
    "# *, + and ?\n",
    "# * zero or more matches\n",
    "# + 1 or more matches\n",
    "# ? 0 or 1 match"
   ]
  },
  {
   "cell_type": "code",
   "execution_count": 70,
   "metadata": {
    "collapsed": true
   },
   "outputs": [],
   "source": [
    "a = \"This is a pythonnnnn class\""
   ]
  },
  {
   "cell_type": "code",
   "execution_count": 71,
   "metadata": {},
   "outputs": [
    {
     "name": "stdout",
     "output_type": "stream",
     "text": [
      "['pythonnnnn']\n"
     ]
    }
   ],
   "source": [
    "x = r\"pytho[n]+\"\n",
    "print re.findall(x, a)"
   ]
  },
  {
   "cell_type": "code",
   "execution_count": 72,
   "metadata": {},
   "outputs": [
    {
     "name": "stdout",
     "output_type": "stream",
     "text": [
      "[]\n"
     ]
    }
   ],
   "source": [
    "a = \"This is a pytho class\"\n",
    "x = r\"pytho[n]+\"\n",
    "print re.findall(x, a)"
   ]
  },
  {
   "cell_type": "code",
   "execution_count": 73,
   "metadata": {},
   "outputs": [
    {
     "name": "stdout",
     "output_type": "stream",
     "text": [
      "['pytho']\n"
     ]
    }
   ],
   "source": [
    "a = \"This is a pytho class\"\n",
    "x = r\"pytho[n]*\"\n",
    "print re.findall(x, a)"
   ]
  },
  {
   "cell_type": "code",
   "execution_count": 74,
   "metadata": {},
   "outputs": [
    {
     "name": "stdout",
     "output_type": "stream",
     "text": [
      "['pythonnnn']\n"
     ]
    }
   ],
   "source": [
    "a = \"This is a pythonnnn class\"\n",
    "x = r\"pytho[n]*\"\n",
    "print re.findall(x, a)"
   ]
  },
  {
   "cell_type": "code",
   "execution_count": 75,
   "metadata": {},
   "outputs": [
    {
     "name": "stdout",
     "output_type": "stream",
     "text": [
      "['python']\n"
     ]
    }
   ],
   "source": [
    "a = \"This is a pythonnnn class\"\n",
    "x = r\"pytho[n]?\"\n",
    "print re.findall(x, a)"
   ]
  },
  {
   "cell_type": "code",
   "execution_count": 76,
   "metadata": {},
   "outputs": [
    {
     "name": "stdout",
     "output_type": "stream",
     "text": [
      "[]\n"
     ]
    }
   ],
   "source": [
    "a = \"This is a pythonnnn class\"\n",
    "x = r\"pytho[n]?\\s\"\n",
    "print re.findall(x, a)"
   ]
  },
  {
   "cell_type": "code",
   "execution_count": 77,
   "metadata": {},
   "outputs": [
    {
     "name": "stdout",
     "output_type": "stream",
     "text": [
      "['pythonnnn ']\n"
     ]
    }
   ],
   "source": [
    "a = \"This is a pythonnnn class\"\n",
    "x = r\"pytho[n]+\\s\"\n",
    "print re.findall(x, a)"
   ]
  },
  {
   "cell_type": "code",
   "execution_count": 78,
   "metadata": {},
   "outputs": [
    {
     "name": "stdout",
     "output_type": "stream",
     "text": [
      "['python']\n"
     ]
    }
   ],
   "source": [
    "a = \"This is a pythonnnn class\"\n",
    "x = r\"pytho[n]+?\"\n",
    "print re.findall(x, a)"
   ]
  },
  {
   "cell_type": "code",
   "execution_count": 79,
   "metadata": {},
   "outputs": [
    {
     "name": "stdout",
     "output_type": "stream",
     "text": [
      "['pytho']\n"
     ]
    }
   ],
   "source": [
    "a = \"This is a pythonnnn class\"\n",
    "x = r\"pytho[n]*?\"\n",
    "print re.findall(x, a)"
   ]
  },
  {
   "cell_type": "code",
   "execution_count": 80,
   "metadata": {},
   "outputs": [
    {
     "name": "stdout",
     "output_type": "stream",
     "text": [
      "['T', 'h', 'i', 's', ' ', 'i', 's', ' ', 'a', ' ', 'p', 'y', 't', 'h', 'o', 'n', 'n', 'n', 'n', ' ', 'c', 'l', 'a', 's', 's']\n"
     ]
    }
   ],
   "source": [
    "\n",
    "#.  ----> matches anything other than \\n but exactly one character\n",
    "a = \"This is a pythonnnn class\"\n",
    "x = r\".\"\n",
    "print re.findall(x, a)"
   ]
  },
  {
   "cell_type": "code",
   "execution_count": 81,
   "metadata": {},
   "outputs": [
    {
     "name": "stdout",
     "output_type": "stream",
     "text": [
      "T\n"
     ]
    }
   ],
   "source": [
    "\n",
    "#.  ----> matches anything other than \\n but exactly one character\n",
    "a = \"This is a pythonnnn class\"\n",
    "x = r\".\"\n",
    "print re.search(x, a).group()"
   ]
  },
  {
   "cell_type": "code",
   "execution_count": 82,
   "metadata": {},
   "outputs": [
    {
     "name": "stdout",
     "output_type": "stream",
     "text": [
      "This is a pythonnnn class\n"
     ]
    }
   ],
   "source": [
    "\n",
    "#.  ----> matches anything other than \\n but exactly one character\n",
    "a = \"This is a pythonnnn class\"\n",
    "x = r\".+\"\n",
    "print re.search(x, a).group()"
   ]
  },
  {
   "cell_type": "code",
   "execution_count": 84,
   "metadata": {},
   "outputs": [
    {
     "name": "stdout",
     "output_type": "stream",
     "text": [
      "This is a pythonnnn \n"
     ]
    }
   ],
   "source": [
    "\n",
    "#.  ----> matches anything other than \\n but exactly one character\n",
    "a = \"This is a pythonnnn class\"\n",
    "x = r\".+\\s\"\n",
    "print re.search(x, a).group()"
   ]
  },
  {
   "cell_type": "code",
   "execution_count": 87,
   "metadata": {},
   "outputs": [
    {
     "name": "stdout",
     "output_type": "stream",
     "text": [
      "This \n"
     ]
    }
   ],
   "source": [
    "\n",
    "#.  ----> matches anything other than \\n but exactly one character\n",
    "a = \"This is a pythonnnn class\"\n",
    "x = r\".+?\\s\"\n",
    "print re.search(x, a).group()"
   ]
  },
  {
   "cell_type": "code",
   "execution_count": null,
   "metadata": {
    "collapsed": true
   },
   "outputs": [],
   "source": []
  }
 ],
 "metadata": {
  "kernelspec": {
   "display_name": "Python 2",
   "language": "python",
   "name": "python2"
  },
  "language_info": {
   "codemirror_mode": {
    "name": "ipython",
    "version": 2
   },
   "file_extension": ".py",
   "mimetype": "text/x-python",
   "name": "python",
   "nbconvert_exporter": "python",
   "pygments_lexer": "ipython2",
   "version": "2.7.13"
  }
 },
 "nbformat": 4,
 "nbformat_minor": 2
}
