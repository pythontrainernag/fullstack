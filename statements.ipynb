{
 "cells": [
  {
   "cell_type": "code",
   "execution_count": 1,
   "metadata": {},
   "outputs": [
    {
     "name": "stdout",
     "output_type": "stream",
     "text": [
      "7\n"
     ]
    }
   ],
   "source": [
    "print 2+5"
   ]
  },
  {
   "cell_type": "code",
   "execution_count": 3,
   "metadata": {},
   "outputs": [
    {
     "name": "stdout",
     "output_type": "stream",
     "text": [
      "7\n",
      "-3\n",
      "6\n"
     ]
    }
   ],
   "source": [
    "print 2+5\n",
    "print 3-6\n",
    "print 3*2"
   ]
  },
  {
   "cell_type": "code",
   "execution_count": 4,
   "metadata": {
    "collapsed": true
   },
   "outputs": [],
   "source": [
    "#if <condition>:\n",
    "#   <statement>"
   ]
  },
  {
   "cell_type": "code",
   "execution_count": 5,
   "metadata": {},
   "outputs": [
    {
     "name": "stdout",
     "output_type": "stream",
     "text": [
      "2 is greater than 1\n",
      "I am inside if condition\n",
      "2 is less than 1\n"
     ]
    }
   ],
   "source": [
    "if 2 > 1:\n",
    "    print \"2 is greater than 1\"\n",
    "    print \"I am inside if condition\"\n",
    "print \"2 is less than 1\"\n"
   ]
  },
  {
   "cell_type": "code",
   "execution_count": 6,
   "metadata": {},
   "outputs": [
    {
     "name": "stdout",
     "output_type": "stream",
     "text": [
      "2 is less than 1\n"
     ]
    }
   ],
   "source": [
    "if 2 < 1:\n",
    "    print \"2 is greater than 1\"\n",
    "    print \"I am inside if condition\"\n",
    "print \"2 is less than 1\"\n"
   ]
  },
  {
   "cell_type": "code",
   "execution_count": 7,
   "metadata": {},
   "outputs": [
    {
     "ename": "IndentationError",
     "evalue": "unexpected indent (<ipython-input-7-d8404cbef359>, line 5)",
     "output_type": "error",
     "traceback": [
      "\u001b[1;36m  File \u001b[1;32m\"<ipython-input-7-d8404cbef359>\"\u001b[1;36m, line \u001b[1;32m5\u001b[0m\n\u001b[1;33m    print \"outside if\"\u001b[0m\n\u001b[1;37m    ^\u001b[0m\n\u001b[1;31mIndentationError\u001b[0m\u001b[1;31m:\u001b[0m unexpected indent\n"
     ]
    }
   ],
   "source": [
    "if 2 < 1:\n",
    "    print \"2 is greater than 1\"\n",
    "    print \"I am inside if condition\"\n",
    "print \"2 is less than 1\"\n",
    "    print \"outside if\""
   ]
  },
  {
   "cell_type": "code",
   "execution_count": 8,
   "metadata": {
    "collapsed": true
   },
   "outputs": [],
   "source": [
    "if 2>5 and 2<3:\n",
    "    print \"compound condition satisfied\""
   ]
  },
  {
   "cell_type": "code",
   "execution_count": 9,
   "metadata": {},
   "outputs": [
    {
     "name": "stdout",
     "output_type": "stream",
     "text": [
      "5\n",
      "6\n"
     ]
    }
   ],
   "source": [
    "print 2+3\n",
    "if 0:\n",
    "    print \"condition satisfied\"\n",
    "print 2*3"
   ]
  },
  {
   "cell_type": "code",
   "execution_count": 10,
   "metadata": {},
   "outputs": [
    {
     "name": "stdout",
     "output_type": "stream",
     "text": [
      "inside if\n",
      "if block\n"
     ]
    }
   ],
   "source": [
    "if 2:\n",
    "    print \"inside if\"\n",
    "    print \"if block\"\n",
    "else:\n",
    "    print \"inside else\"\n",
    "    print \"else block\""
   ]
  },
  {
   "cell_type": "code",
   "execution_count": 11,
   "metadata": {},
   "outputs": [
    {
     "name": "stdout",
     "output_type": "stream",
     "text": [
      "inside else\n",
      "else block\n"
     ]
    }
   ],
   "source": [
    "if 0:\n",
    "    print \"inside if\"\n",
    "    print \"if block\"\n",
    "else:\n",
    "    print \"inside else\"\n",
    "    print \"else block\""
   ]
  },
  {
   "cell_type": "code",
   "execution_count": 12,
   "metadata": {},
   "outputs": [
    {
     "name": "stdout",
     "output_type": "stream",
     "text": [
      "c is greater\n"
     ]
    }
   ],
   "source": [
    "a = 5\n",
    "b = 10\n",
    "c = 12\n",
    "if a>b and a>c:\n",
    "    print \"a is greater\"\n",
    "elif b>a and b>c:\n",
    "    print \"b is greater\"\n",
    "else:\n",
    "    print \"c is greater\""
   ]
  },
  {
   "cell_type": "code",
   "execution_count": 13,
   "metadata": {
    "collapsed": true
   },
   "outputs": [],
   "source": [
    "# while <condition>:\n",
    "#     <statements>\n",
    "#     statement1\n",
    "#     statement2\n"
   ]
  },
  {
   "cell_type": "code",
   "execution_count": 14,
   "metadata": {},
   "outputs": [
    {
     "name": "stdout",
     "output_type": "stream",
     "text": [
      "7\n",
      "inside while\n",
      "8\n",
      "inside while\n",
      "9\n",
      "inside while\n",
      "outside while\n"
     ]
    }
   ],
   "source": [
    "a = 7\n",
    "while a < 10:\n",
    "    print a\n",
    "    print \"inside while\"\n",
    "    a += 1\n",
    "print \"outside while\"\n"
   ]
  },
  {
   "cell_type": "code",
   "execution_count": 15,
   "metadata": {},
   "outputs": [
    {
     "name": "stdout",
     "output_type": "stream",
     "text": [
      "2\n",
      "4\n",
      "6\n",
      "8\n",
      "10\n"
     ]
    }
   ],
   "source": [
    "a = 2\n",
    "while a <= 10:\n",
    "    continue\n",
    "    print a\n",
    "    a+=1\n",
    "    "
   ]
  },
  {
   "cell_type": "code",
   "execution_count": 16,
   "metadata": {},
   "outputs": [
    {
     "name": "stdout",
     "output_type": "stream",
     "text": [
      "4\n",
      "5\n",
      "outside while\n"
     ]
    }
   ],
   "source": [
    "a = 4\n",
    "while a <= 10:\n",
    "    if not a%3:\n",
    "        break\n",
    "    print a\n",
    "    a+=1\n",
    "print \"outside while\""
   ]
  },
  {
   "cell_type": "code",
   "execution_count": 17,
   "metadata": {},
   "outputs": [
    {
     "name": "stdout",
     "output_type": "stream",
     "text": [
      "outside while\n"
     ]
    }
   ],
   "source": [
    "a = 4\n",
    "while a <= 10:\n",
    "    break\n",
    "    print a\n",
    "    a+=1\n",
    "print \"outside while\""
   ]
  },
  {
   "cell_type": "code",
   "execution_count": null,
   "metadata": {
    "collapsed": true
   },
   "outputs": [],
   "source": []
  }
 ],
 "metadata": {
  "kernelspec": {
   "display_name": "Python 2",
   "language": "python",
   "name": "python2"
  },
  "language_info": {
   "codemirror_mode": {
    "name": "ipython",
    "version": 2
   },
   "file_extension": ".py",
   "mimetype": "text/x-python",
   "name": "python",
   "nbconvert_exporter": "python",
   "pygments_lexer": "ipython2",
   "version": "2.7.13"
  }
 },
 "nbformat": 4,
 "nbformat_minor": 2
}
